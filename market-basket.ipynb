{
 "cells": [
  {
   "cell_type": "code",
   "execution_count": 24,
   "id": "72ec1e9b-fac1-409f-98ec-61ab5620e418",
   "metadata": {},
   "outputs": [
    {
     "data": {
      "text/plain": [
       "\u001b[0;31mSignature:\u001b[0m\n",
       "\u001b[0minit_printing\u001b[0m\u001b[0;34m(\u001b[0m\u001b[0;34m\u001b[0m\n",
       "\u001b[0;34m\u001b[0m    \u001b[0mpretty_print\u001b[0m\u001b[0;34m=\u001b[0m\u001b[0;32mTrue\u001b[0m\u001b[0;34m,\u001b[0m\u001b[0;34m\u001b[0m\n",
       "\u001b[0;34m\u001b[0m    \u001b[0morder\u001b[0m\u001b[0;34m=\u001b[0m\u001b[0;32mNone\u001b[0m\u001b[0;34m,\u001b[0m\u001b[0;34m\u001b[0m\n",
       "\u001b[0;34m\u001b[0m    \u001b[0muse_unicode\u001b[0m\u001b[0;34m=\u001b[0m\u001b[0;32mNone\u001b[0m\u001b[0;34m,\u001b[0m\u001b[0;34m\u001b[0m\n",
       "\u001b[0;34m\u001b[0m    \u001b[0muse_latex\u001b[0m\u001b[0;34m=\u001b[0m\u001b[0;32mNone\u001b[0m\u001b[0;34m,\u001b[0m\u001b[0;34m\u001b[0m\n",
       "\u001b[0;34m\u001b[0m    \u001b[0mwrap_line\u001b[0m\u001b[0;34m=\u001b[0m\u001b[0;32mNone\u001b[0m\u001b[0;34m,\u001b[0m\u001b[0;34m\u001b[0m\n",
       "\u001b[0;34m\u001b[0m    \u001b[0mnum_columns\u001b[0m\u001b[0;34m=\u001b[0m\u001b[0;32mNone\u001b[0m\u001b[0;34m,\u001b[0m\u001b[0;34m\u001b[0m\n",
       "\u001b[0;34m\u001b[0m    \u001b[0mno_global\u001b[0m\u001b[0;34m=\u001b[0m\u001b[0;32mFalse\u001b[0m\u001b[0;34m,\u001b[0m\u001b[0;34m\u001b[0m\n",
       "\u001b[0;34m\u001b[0m    \u001b[0mip\u001b[0m\u001b[0;34m=\u001b[0m\u001b[0;32mNone\u001b[0m\u001b[0;34m,\u001b[0m\u001b[0;34m\u001b[0m\n",
       "\u001b[0;34m\u001b[0m    \u001b[0meuler\u001b[0m\u001b[0;34m=\u001b[0m\u001b[0;32mFalse\u001b[0m\u001b[0;34m,\u001b[0m\u001b[0;34m\u001b[0m\n",
       "\u001b[0;34m\u001b[0m    \u001b[0mforecolor\u001b[0m\u001b[0;34m=\u001b[0m\u001b[0;32mNone\u001b[0m\u001b[0;34m,\u001b[0m\u001b[0;34m\u001b[0m\n",
       "\u001b[0;34m\u001b[0m    \u001b[0mbackcolor\u001b[0m\u001b[0;34m=\u001b[0m\u001b[0;34m'Transparent'\u001b[0m\u001b[0;34m,\u001b[0m\u001b[0;34m\u001b[0m\n",
       "\u001b[0;34m\u001b[0m    \u001b[0mfontsize\u001b[0m\u001b[0;34m=\u001b[0m\u001b[0;34m'10pt'\u001b[0m\u001b[0;34m,\u001b[0m\u001b[0;34m\u001b[0m\n",
       "\u001b[0;34m\u001b[0m    \u001b[0mlatex_mode\u001b[0m\u001b[0;34m=\u001b[0m\u001b[0;34m'plain'\u001b[0m\u001b[0;34m,\u001b[0m\u001b[0;34m\u001b[0m\n",
       "\u001b[0;34m\u001b[0m    \u001b[0mprint_builtin\u001b[0m\u001b[0;34m=\u001b[0m\u001b[0;32mTrue\u001b[0m\u001b[0;34m,\u001b[0m\u001b[0;34m\u001b[0m\n",
       "\u001b[0;34m\u001b[0m    \u001b[0mstr_printer\u001b[0m\u001b[0;34m=\u001b[0m\u001b[0;32mNone\u001b[0m\u001b[0;34m,\u001b[0m\u001b[0;34m\u001b[0m\n",
       "\u001b[0;34m\u001b[0m    \u001b[0mpretty_printer\u001b[0m\u001b[0;34m=\u001b[0m\u001b[0;32mNone\u001b[0m\u001b[0;34m,\u001b[0m\u001b[0;34m\u001b[0m\n",
       "\u001b[0;34m\u001b[0m    \u001b[0mlatex_printer\u001b[0m\u001b[0;34m=\u001b[0m\u001b[0;32mNone\u001b[0m\u001b[0;34m,\u001b[0m\u001b[0;34m\u001b[0m\n",
       "\u001b[0;34m\u001b[0m    \u001b[0mscale\u001b[0m\u001b[0;34m=\u001b[0m\u001b[0;36m1.0\u001b[0m\u001b[0;34m,\u001b[0m\u001b[0;34m\u001b[0m\n",
       "\u001b[0;34m\u001b[0m    \u001b[0;34m**\u001b[0m\u001b[0msettings\u001b[0m\u001b[0;34m,\u001b[0m\u001b[0;34m\u001b[0m\n",
       "\u001b[0;34m\u001b[0m\u001b[0;34m)\u001b[0m\u001b[0;34m\u001b[0m\u001b[0;34m\u001b[0m\u001b[0m\n",
       "\u001b[0;31mDocstring:\u001b[0m\n",
       "Initializes pretty-printer depending on the environment.\n",
       "\n",
       "Parameters\n",
       "==========\n",
       "\n",
       "pretty_print : boolean, default=True\n",
       "    If True, use pretty_print to stringify or the provided pretty\n",
       "    printer; if False, use sstrrepr to stringify or the provided string\n",
       "    printer.\n",
       "order : string or None, default='lex'\n",
       "    There are a few different settings for this parameter:\n",
       "    lex (default), which is lexographic order;\n",
       "    grlex, which is graded lexographic order;\n",
       "    grevlex, which is reversed graded lexographic order;\n",
       "    old, which is used for compatibility reasons and for long expressions;\n",
       "    None, which sets it to lex.\n",
       "use_unicode : boolean or None, default=None\n",
       "    If True, use unicode characters;\n",
       "    if False, do not use unicode characters;\n",
       "    if None, make a guess based on the environment.\n",
       "use_latex : string, boolean, or None, default=None\n",
       "    If True, use default LaTeX rendering in GUI interfaces (png and\n",
       "    mathjax);\n",
       "    if False, do not use LaTeX rendering;\n",
       "    if None, make a guess based on the environment;\n",
       "    if 'png', enable latex rendering with an external latex compiler,\n",
       "    falling back to matplotlib if external compilation fails;\n",
       "    if 'matplotlib', enable LaTeX rendering with matplotlib;\n",
       "    if 'mathjax', enable LaTeX text generation, for example MathJax\n",
       "    rendering in IPython notebook or text rendering in LaTeX documents;\n",
       "    if 'svg', enable LaTeX rendering with an external latex compiler,\n",
       "    no fallback\n",
       "wrap_line : boolean\n",
       "    If True, lines will wrap at the end; if False, they will not wrap\n",
       "    but continue as one line. This is only relevant if ``pretty_print`` is\n",
       "    True.\n",
       "num_columns : int or None, default=None\n",
       "    If int, number of columns before wrapping is set to num_columns; if\n",
       "    None, number of columns before wrapping is set to terminal width.\n",
       "    This is only relevant if ``pretty_print`` is True.\n",
       "no_global : boolean, default=False\n",
       "    If True, the settings become system wide;\n",
       "    if False, use just for this console/session.\n",
       "ip : An interactive console\n",
       "    This can either be an instance of IPython,\n",
       "    or a class that derives from code.InteractiveConsole.\n",
       "euler : boolean, optional, default=False\n",
       "    Loads the euler package in the LaTeX preamble for handwritten style\n",
       "    fonts (http://www.ctan.org/pkg/euler).\n",
       "forecolor : string or None, optional, default=None\n",
       "    DVI setting for foreground color. None means that either 'Black',\n",
       "    'White', or 'Gray' will be selected based on a guess of the IPython\n",
       "    terminal color setting. See notes.\n",
       "backcolor : string, optional, default='Transparent'\n",
       "    DVI setting for background color. See notes.\n",
       "fontsize : string, optional, default='10pt'\n",
       "    A font size to pass to the LaTeX documentclass function in the\n",
       "    preamble. Note that the options are limited by the documentclass.\n",
       "    Consider using scale instead.\n",
       "latex_mode : string, optional, default='plain'\n",
       "    The mode used in the LaTeX printer. Can be one of:\n",
       "    {'inline'|'plain'|'equation'|'equation*'}.\n",
       "print_builtin : boolean, optional, default=True\n",
       "    If ``True`` then floats and integers will be printed. If ``False`` the\n",
       "    printer will only print SymPy types.\n",
       "str_printer : function, optional, default=None\n",
       "    A custom string printer function. This should mimic\n",
       "    sympy.printing.sstrrepr().\n",
       "pretty_printer : function, optional, default=None\n",
       "    A custom pretty printer. This should mimic sympy.printing.pretty().\n",
       "latex_printer : function, optional, default=None\n",
       "    A custom LaTeX printer. This should mimic sympy.printing.latex().\n",
       "scale : float, optional, default=1.0\n",
       "    Scale the LaTeX output when using the ``png`` or ``svg`` backends.\n",
       "    Useful for high dpi screens.\n",
       "settings :\n",
       "    Any additional settings for the ``latex`` and ``pretty`` commands can\n",
       "    be used to fine-tune the output.\n",
       "\n",
       "Examples\n",
       "========\n",
       "\n",
       ">>> from sympy.interactive import init_printing\n",
       ">>> from sympy import Symbol, sqrt\n",
       ">>> from sympy.abc import x, y\n",
       ">>> sqrt(5)\n",
       "sqrt(5)\n",
       ">>> init_printing(pretty_print=True) # doctest: +SKIP\n",
       ">>> sqrt(5) # doctest: +SKIP\n",
       "  ___\n",
       "\\/ 5\n",
       ">>> theta = Symbol('theta') # doctest: +SKIP\n",
       ">>> init_printing(use_unicode=True) # doctest: +SKIP\n",
       ">>> theta # doctest: +SKIP\n",
       "\\u03b8\n",
       ">>> init_printing(use_unicode=False) # doctest: +SKIP\n",
       ">>> theta # doctest: +SKIP\n",
       "theta\n",
       ">>> init_printing(order='lex') # doctest: +SKIP\n",
       ">>> str(y + x + y**2 + x**2) # doctest: +SKIP\n",
       "x**2 + x + y**2 + y\n",
       ">>> init_printing(order='grlex') # doctest: +SKIP\n",
       ">>> str(y + x + y**2 + x**2) # doctest: +SKIP\n",
       "x**2 + x + y**2 + y\n",
       ">>> init_printing(order='grevlex') # doctest: +SKIP\n",
       ">>> str(y * x**2 + x * y**2) # doctest: +SKIP\n",
       "x**2*y + x*y**2\n",
       ">>> init_printing(order='old') # doctest: +SKIP\n",
       ">>> str(x**2 + y**2 + x + y) # doctest: +SKIP\n",
       "x**2 + x + y**2 + y\n",
       ">>> init_printing(num_columns=10) # doctest: +SKIP\n",
       ">>> x**2 + x + y**2 + y # doctest: +SKIP\n",
       "x + y +\n",
       "x**2 + y**2\n",
       "\n",
       "Notes\n",
       "=====\n",
       "\n",
       "The foreground and background colors can be selected when using 'png' or\n",
       "'svg' LaTeX rendering. Note that before the ``init_printing`` command is\n",
       "executed, the LaTeX rendering is handled by the IPython console and not SymPy.\n",
       "\n",
       "The colors can be selected among the 68 standard colors known to ``dvips``,\n",
       "for a list see [1]_. In addition, the background color can be\n",
       "set to  'Transparent' (which is the default value).\n",
       "\n",
       "When using the 'Auto' foreground color, the guess is based on the\n",
       "``colors`` variable in the IPython console, see [2]_. Hence, if\n",
       "that variable is set correctly in your IPython console, there is a high\n",
       "chance that the output will be readable, although manual settings may be\n",
       "needed.\n",
       "\n",
       "\n",
       "References\n",
       "==========\n",
       "\n",
       ".. [1] https://en.wikibooks.org/wiki/LaTeX/Colors#The_68_standard_colors_known_to_dvips\n",
       "\n",
       ".. [2] https://ipython.readthedocs.io/en/stable/config/details.html#terminal-colors\n",
       "\n",
       "See Also\n",
       "========\n",
       "\n",
       "sympy.printing.latex\n",
       "sympy.printing.pretty\n",
       "\u001b[0;31mFile:\u001b[0m      ~/miniconda3/envs/dts/lib/python3.9/site-packages/sympy/interactive/printing.py\n",
       "\u001b[0;31mType:\u001b[0m      function\n"
      ]
     },
     "metadata": {},
     "output_type": "display_data"
    }
   ],
   "source": [
    "from sympy import *\n",
    "from itertools import combinations\n",
    "init_printing()\n",
    "init_printing?"
   ]
  },
  {
   "cell_type": "markdown",
   "id": "3f6be594-afe3-4d05-88c0-5cf67ad0e5fd",
   "metadata": {},
   "source": [
    "## Function untuk generate subsets dari full set"
   ]
  },
  {
   "cell_type": "code",
   "execution_count": 6,
   "id": "1dec28a3-3ab8-4a2a-85fc-7dbff6ed78fb",
   "metadata": {},
   "outputs": [],
   "source": [
    "def subsets(S, k):\n",
    "    return [set(s) for s in combinations(S,k)]"
   ]
  },
  {
   "cell_type": "code",
   "execution_count": 7,
   "id": "1cc77a16-6cfc-4ab8-a94c-f8b016d55868",
   "metadata": {},
   "outputs": [
    {
     "data": {
      "image/png": "[encoded data removed]",
      "text/latex": [
       "$\\displaystyle \\left[ \\left\\{1, 2\\right\\}, \\  \\left\\{1, 3\\right\\}, \\  \\left\\{2, 3\\right\\}\\right]$"
      ],
      "text/plain": [
       "[{1, 2}, {1, 3}, {2, 3}]"
      ]
     },
     "execution_count": 7,
     "metadata": {},
     "output_type": "execute_result"
    }
   ],
   "source": [
    "subset({ 1,2 ,3 }, 2)"
   ]
  },
  {
   "cell_type": "code",
   "execution_count": 8,
   "id": "28785f12-7362-44ed-8eb3-6a973ec00eb7",
   "metadata": {},
   "outputs": [],
   "source": [
    "def print_all(iterable):\n",
    "    for i in iterable:\n",
    "        print(i)"
   ]
  },
  {
   "cell_type": "code",
   "execution_count": 9,
   "id": "5ef74fe7-c0e0-4323-a994-79b7c3411091",
   "metadata": {},
   "outputs": [],
   "source": [
    "BREAD='Bread'\n",
    "MILK='Milk'\n",
    "BEER='Beer'\n",
    "DIAPER='Diaper'\n",
    "COKE='Coke'\n",
    "EGGS='Eggs'"
   ]
  },
  {
   "cell_type": "code",
   "execution_count": 10,
   "id": "d0ac07c4-33a3-4aae-a791-06a43d25b8c0",
   "metadata": {},
   "outputs": [
    {
     "data": {
      "text/plain": [
       "[{'Bread', 'Milk'},\n",
       " {'Beer', 'Bread', 'Diaper', 'Eggs'},\n",
       " {'Beer', 'Coke', 'Diaper', 'Milk'},\n",
       " {'Beer', 'Bread', 'Diaper', 'Milk'},\n",
       " {'Bread', 'Coke', 'Diaper', 'Milk'},\n",
       " {'Bread', 'Coke', 'Diaper', 'Eggs'},\n",
       " {'Bread', 'Diaper', 'Eggs', 'Milk'},\n",
       " {'Diaper', 'Eggs', 'Milk'}]"
      ]
     },
     "execution_count": 10,
     "metadata": {},
     "output_type": "execute_result"
    }
   ],
   "source": [
    "#Contoh dataset\n",
    "T = [\n",
    "  {BREAD, MILK},\n",
    "    {BEER, BREAD,DIAPER,EGGS},\n",
    "    {BEER,COKE,DIAPER,MILK},\n",
    "    {BEER,BREAD,DIAPER,MILK},\n",
    "    {BREAD,COKE,DIAPER,MILK},\n",
    "    {BREAD,COKE,DIAPER,EGGS},\n",
    "    {BREAD,EGGS,DIAPER,MILK},\n",
    "    {EGGS,DIAPER,MILK}\n",
    "]\n",
    "T"
   ]
  },
  {
   "cell_type": "markdown",
   "id": "a7789579-468b-4e3f-85cf-a1594c7cf6cd",
   "metadata": {},
   "source": [
    "## Rumus Support"
   ]
  },
  {
   "cell_type": "code",
   "execution_count": 16,
   "id": "9f94d466-cd12-4c06-b08d-c3231a4ca003",
   "metadata": {},
   "outputs": [],
   "source": [
    "def support_count(X, T):\n",
    "    return S(sum(1 for x in T if X<=x))\n",
    "\"\"\"\n",
    "Penjelasan tidak jelas\n",
    "\"\"\""
   ]
  },
  {
   "cell_type": "code",
   "execution_count": 18,
   "id": "29473bbd-aaa4-433d-bd67-57f8a7bf5c08",
   "metadata": {},
   "outputs": [
    {
     "data": {
      "text/plain": [
       "\u001b[0;31mSignature:\u001b[0m \u001b[0msum\u001b[0m\u001b[0;34m(\u001b[0m\u001b[0miterable\u001b[0m\u001b[0;34m,\u001b[0m \u001b[0;34m/\u001b[0m\u001b[0;34m,\u001b[0m \u001b[0mstart\u001b[0m\u001b[0;34m=\u001b[0m\u001b[0;36m0\u001b[0m\u001b[0;34m)\u001b[0m\u001b[0;34m\u001b[0m\u001b[0;34m\u001b[0m\u001b[0m\n",
       "\u001b[0;31mDocstring:\u001b[0m\n",
       "Return the sum of a 'start' value (default: 0) plus an iterable of numbers\n",
       "\n",
       "When the iterable is empty, return the start value.\n",
       "This function is intended specifically for use with numeric values and may\n",
       "reject non-numeric types.\n",
       "\u001b[0;31mType:\u001b[0m      builtin_function_or_method\n"
      ]
     },
     "metadata": {},
     "output_type": "display_data"
    }
   ],
   "source": [
    "sum?"
   ]
  },
  {
   "cell_type": "code",
   "execution_count": 15,
   "id": "e3574904-2d82-4c8a-9b34-a772ce87a7ca",
   "metadata": {},
   "outputs": [
    {
     "data": {
      "image/png": "[encoded data removed]",
      "text/latex": [
       "$\\displaystyle 3$"
      ],
      "text/plain": [
       "3"
      ]
     },
     "execution_count": 15,
     "metadata": {},
     "output_type": "execute_result"
    }
   ],
   "source": [
    "support_count({ MILK, BREAD, DIAPER  }, T)"
   ]
  },
  {
   "cell_type": "code",
   "execution_count": 20,
   "id": "1c388fa3-6f7f-481e-b791-216a06b4a0d6",
   "metadata": {},
   "outputs": [],
   "source": [
    "def support(X,T):\n",
    "    return support_count(X, T) / len(T)"
   ]
  },
  {
   "cell_type": "code",
   "execution_count": 22,
   "id": "dbd69eae-b5c7-4432-ad33-ecc7c0524101",
   "metadata": {},
   "outputs": [
    {
     "data": {
      "image/png": "[encoded data removed]",
      "text/latex": [
       "$\\displaystyle \\frac{3}{8}$"
      ],
      "text/plain": [
       "3/8"
      ]
     },
     "execution_count": 22,
     "metadata": {},
     "output_type": "execute_result"
    }
   ],
   "source": [
    "support({ MILK, BREAD, DIAPER  }, T)"
   ]
  },
  {
   "cell_type": "markdown",
   "id": "612dd61f-7e69-4e1d-b457-a74443e11cf6",
   "metadata": {},
   "source": [
    "# Menghitung Confidence"
   ]
  },
  {
   "cell_type": "markdown",
   "id": "62e946c1-274e-4f2c-b3bf-adefb596605f",
   "metadata": {},
   "source": [
    "## Rules\n",
    "\n",
    "X => Y dimana X dan Y adalah itemsets"
   ]
  },
  {
   "cell_type": "code",
   "execution_count": 27,
   "id": "dc24ba0e-d2a4-4055-9a95-9b00b1146ee1",
   "metadata": {},
   "outputs": [],
   "source": [
    "rule = ({MILK, DIAPER}, {BEER})\n",
    "rule_X = {MILK, DIAPER}\n",
    "rule_Y = {BEER}"
   ]
  },
  {
   "cell_type": "code",
   "execution_count": 29,
   "id": "58db2c00-9255-4020-b367-3635d04282a9",
   "metadata": {},
   "outputs": [],
   "source": [
    "def rule_support(x,y, T):\n",
    "    return support(x|y, T)"
   ]
  },
  {
   "cell_type": "code",
   "execution_count": 31,
   "id": "f7c802f1-ce82-4216-b21b-96dd9204027d",
   "metadata": {},
   "outputs": [
    {
     "data": {
      "image/png": "[encoded data removed]",
      "text/latex": [
       "$\\displaystyle \\frac{1}{4}$"
      ],
      "text/plain": [
       "1/4"
      ]
     },
     "execution_count": 31,
     "metadata": {},
     "output_type": "execute_result"
    }
   ],
   "source": [
    "rule_support(rule_X,rule_Y, T)"
   ]
  },
  {
   "cell_type": "code",
   "execution_count": 32,
   "id": "cf281f94-b421-496c-97ef-55ac52a482f3",
   "metadata": {},
   "outputs": [],
   "source": [
    "def rule_confidence(x,y, T):\n",
    "    return (support_count(x|y, T) / support_count(x,T)  )"
   ]
  },
  {
   "cell_type": "code",
   "execution_count": 35,
   "id": "672d9913-10ca-4cb5-866d-cf6a15b0610e",
   "metadata": {},
   "outputs": [
    {
     "data": {
      "image/png": "[encoded data removed]",
      "text/latex": [
       "$\\displaystyle \\frac{2}{5}$"
      ],
      "text/plain": [
       "2/5"
      ]
     },
     "execution_count": 35,
     "metadata": {},
     "output_type": "execute_result"
    }
   ],
   "source": [
    "rule_confidence(rule_X, rule_Y, T)"
   ]
  },
  {
   "cell_type": "markdown",
   "id": "fcd8ec70-2c3c-4a6d-8bdc-65ae79190c3b",
   "metadata": {},
   "source": [
    "# Apriori Principles"
   ]
  },
  {
   "cell_type": "markdown",
   "id": "6260a625-c3a9-4a6a-910a-fc647706eae1",
   "metadata": {},
   "source": [
    "## Dimulai dari yang terkecil\n",
    "\n",
    "* Pertama, temukan _frequent_ _itemsets_ dari 1 / _frequent_ _1-itemsets_\n",
    "* Selanjutnya, eliminasi itemsets yang support-nya terlalu kecil\n",
    "* Lalu, buat _frequent_ _2-itemsets_ dari _1-itemsets_ yang tersisa\n",
    "* eliminasi lagi itemsets yang terlalu kecil\n",
    "* tambahkan ukuran dan ulangi"
   ]
  },
  {
   "cell_type": "code",
   "execution_count": 38,
   "id": "8a2dbe69-fa5d-40c5-ad59-968a93173575",
   "metadata": {},
   "outputs": [],
   "source": [
    "# untuk filtering\n",
    "smin = 0.2 #support mininal\n",
    "cmin = 0.3 #confidence minimal"
   ]
  },
  {
   "cell_type": "markdown",
   "id": "b4485f5f-85a8-43e1-9239-e1356ee508a7",
   "metadata": {},
   "source": [
    "#### _Frequent_ _1-itemsets_"
   ]
  },
  {
   "cell_type": "code",
   "execution_count": 43,
   "id": "134f565f-59f9-4b36-bc75-12ba9622285e",
   "metadata": {},
   "outputs": [],
   "source": [
    "def union_all(sets):\n",
    "    result = set()\n",
    "    for c in sets:\n",
    "        result = result | c\n",
    "    return result"
   ]
  },
  {
   "cell_type": "code",
   "execution_count": 41,
   "id": "7c9fc62c-5d6c-4f6c-a480-e7f57dca0bb3",
   "metadata": {},
   "outputs": [],
   "source": [
    "def frequent_1(T):\n",
    "    items = union_all(T)\n",
    "    return [  {item} for item in items if support({item}, T) >= smin ]"
   ]
  },
  {
   "cell_type": "code",
   "execution_count": 44,
   "id": "45360598-4a39-4f00-90b2-52f0b4370d34",
   "metadata": {},
   "outputs": [
    {
     "data": {
      "text/plain": [
       "[{'Eggs'}, {'Diaper'}, {'Bread'}, {'Beer'}, {'Milk'}, {'Coke'}]"
      ]
     },
     "execution_count": 44,
     "metadata": {},
     "output_type": "execute_result"
    }
   ],
   "source": [
    "L1 = frequent_1(T)\n",
    "L1"
   ]
  },
  {
   "cell_type": "code",
   "execution_count": 45,
   "id": "64045528-daa5-40ba-b35a-2978de9b725c",
   "metadata": {},
   "outputs": [
    {
     "data": {
      "text/plain": [
       "{'Beer', 'Bread', 'Coke', 'Diaper', 'Eggs', 'Milk'}"
      ]
     },
     "execution_count": 45,
     "metadata": {},
     "output_type": "execute_result"
    }
   ],
   "source": [
    "union_all(L1)"
   ]
  },
  {
   "cell_type": "code",
   "execution_count": 46,
   "id": "b07f4245-e98e-4e06-a9fc-6a18427bf2bf",
   "metadata": {},
   "outputs": [
    {
     "name": "stdout",
     "output_type": "stream",
     "text": [
      "('Milk', 'Eggs')\n",
      "('Milk', 'Diaper')\n",
      "('Milk', 'Bread')\n",
      "('Milk', 'Coke')\n",
      "('Milk', 'Beer')\n",
      "('Eggs', 'Diaper')\n",
      "('Eggs', 'Bread')\n",
      "('Eggs', 'Coke')\n",
      "('Eggs', 'Beer')\n",
      "('Diaper', 'Bread')\n",
      "('Diaper', 'Coke')\n",
      "('Diaper', 'Beer')\n",
      "('Bread', 'Coke')\n",
      "('Bread', 'Beer')\n",
      "('Coke', 'Beer')\n"
     ]
    }
   ],
   "source": [
    "C2= subsets(_, 2)\n",
    "print_all(C2)"
   ]
  },
  {
   "cell_type": "code",
   "execution_count": 66,
   "id": "46944984-6e3e-4b2a-ba00-a3bf30400d9c",
   "metadata": {},
   "outputs": [],
   "source": [
    "def good_candidate(c, P):\n",
    "    for s in subsets(c, len(c) - 1):\n",
    "        if s not in P : \n",
    "            return false\n",
    "    return True"
   ]
  },
  {
   "cell_type": "code",
   "execution_count": 67,
   "id": "4ff4b9f1-ce73-455c-b037-774350017766",
   "metadata": {},
   "outputs": [
    {
     "data": {
      "image/png": "[encoded data removed]",
      "text/latex": [
       "$\\displaystyle \\left[ \\right]$"
      ],
      "text/plain": [
       "[]"
      ]
     },
     "execution_count": 67,
     "metadata": {},
     "output_type": "execute_result"
    }
   ],
   "source": [
    "F2 = [c for c in C2 if good_candidate(c,L1)]\n",
    "F2"
   ]
  }
 ],
 "metadata": {
  "kernelspec": {
   "display_name": "Python 3",
   "language": "python",
   "name": "python3"
  },
  "language_info": {
   "codemirror_mode": {
    "name": "ipython",
    "version": 3
   },
   "file_extension": ".py",
   "mimetype": "text/x-python",
   "name": "python",
   "nbconvert_exporter": "python",
   "pygments_lexer": "ipython3",
   "version": "3.9.2"
  }
 },
 "nbformat": 4,
 "nbformat_minor": 5
}
